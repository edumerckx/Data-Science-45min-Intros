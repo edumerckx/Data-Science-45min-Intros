{
 "cells": [
  {
   "cell_type": "markdown",
   "metadata": {},
   "source": [
    "# Comparing collections\n",
    "\n",
    "* Set comparison\n",
    "* Ordered collections\n",
    "* Ranked collections\n",
    "* Collection transformation"
   ]
  },
  {
   "cell_type": "code",
   "execution_count": 1,
   "metadata": {
    "collapsed": false
   },
   "outputs": [],
   "source": [
    "import random\n",
    "import collections\n",
    "import operator\n",
    "\n",
    "import numpy as np\n",
    "import scipy\n",
    "import matplotlib.pyplot as plt\n",
    "import seaborn as sns\n",
    "from sklearn import datasets\n",
    "%matplotlib inline\n",
    "\n",
    "import count_min\n",
    "\n",
    "# some matplotlib color-mapping \n",
    "cmap = plt.get_cmap('viridis')\n",
    "c_space = np.linspace(0,99,100)"
   ]
  },
  {
   "cell_type": "markdown",
   "metadata": {},
   "source": [
    "# Set comparison"
   ]
  },
  {
   "cell_type": "code",
   "execution_count": 2,
   "metadata": {
    "collapsed": false
   },
   "outputs": [],
   "source": [
    "a = set(['josh','fiona','scotty','skippy'])\n",
    "b = set(['jeff','whitney','fiona'])"
   ]
  },
  {
   "cell_type": "code",
   "execution_count": 3,
   "metadata": {
    "collapsed": false
   },
   "outputs": [
    {
     "data": {
      "text/plain": [
       "{'fiona'}"
      ]
     },
     "execution_count": 3,
     "metadata": {},
     "output_type": "execute_result"
    }
   ],
   "source": [
    "a.intersection(b)"
   ]
  },
  {
   "cell_type": "code",
   "execution_count": 4,
   "metadata": {
    "collapsed": true
   },
   "outputs": [],
   "source": [
    "c = set(range(10))\n",
    "d = set(range(8,15))"
   ]
  },
  {
   "cell_type": "code",
   "execution_count": 5,
   "metadata": {
    "collapsed": false
   },
   "outputs": [
    {
     "data": {
      "text/plain": [
       "{8, 9}"
      ]
     },
     "execution_count": 5,
     "metadata": {},
     "output_type": "execute_result"
    }
   ],
   "source": [
    "c.intersection(d)"
   ]
  },
  {
   "cell_type": "code",
   "execution_count": 6,
   "metadata": {
    "collapsed": false
   },
   "outputs": [
    {
     "data": {
      "text/plain": [
       "{0, 1, 2, 3, 4, 5, 6, 7, 8, 9, 10, 11, 12, 13, 14}"
      ]
     },
     "execution_count": 6,
     "metadata": {},
     "output_type": "execute_result"
    }
   ],
   "source": [
    "c.union(d)"
   ]
  },
  {
   "cell_type": "markdown",
   "metadata": {},
   "source": [
    "# List comparison"
   ]
  },
  {
   "cell_type": "markdown",
   "metadata": {},
   "source": [
    "## Number sequences"
   ]
  },
  {
   "cell_type": "code",
   "execution_count": 7,
   "metadata": {
    "collapsed": false
   },
   "outputs": [],
   "source": [
    "a = np.array([[i,i+np.random.normal()] for i in range(100)])"
   ]
  },
  {
   "cell_type": "code",
   "execution_count": 8,
   "metadata": {
    "collapsed": false
   },
   "outputs": [
    {
     "data": {
      "text/plain": [
       "<matplotlib.collections.PathCollection at 0x1162c2128>"
      ]
     },
     "execution_count": 8,
     "metadata": {},
     "output_type": "execute_result"
    },
    {
     "data": {
      "image/png": "[encoded data removed]",
      "text/plain": [
       "<matplotlib.figure.Figure at 0x10ff03e80>"
      ]
     },
     "metadata": {},
     "output_type": "display_data"
    }
   ],
   "source": [
    "plt.scatter(a[:,0],a[:,1],c=c_space,cmap=cmap)"
   ]
  },
  {
   "cell_type": "code",
   "execution_count": 9,
   "metadata": {
    "collapsed": false
   },
   "outputs": [
    {
     "data": {
      "text/plain": [
       "array([[ 1.        ,  0.99929504],\n",
       "       [ 0.99929504,  1.        ]])"
      ]
     },
     "execution_count": 9,
     "metadata": {},
     "output_type": "execute_result"
    }
   ],
   "source": [
    "np.corrcoef(a,rowvar=0)"
   ]
  },
  {
   "cell_type": "code",
   "execution_count": 10,
   "metadata": {
    "collapsed": true
   },
   "outputs": [],
   "source": [
    "_ = [1,4,5,8,15,45,48,50,55,60,88,89,90,93,99]\n",
    "b = np.array([[i,i+np.random.normal()*5] for i in _])"
   ]
  },
  {
   "cell_type": "code",
   "execution_count": 11,
   "metadata": {
    "collapsed": false
   },
   "outputs": [
    {
     "data": {
      "text/plain": [
       "<matplotlib.collections.PathCollection at 0x116376940>"
      ]
     },
     "execution_count": 11,
     "metadata": {},
     "output_type": "execute_result"
    },
    {
     "data": {
      "image/png": "[encoded data removed]",
      "text/plain": [
       "<matplotlib.figure.Figure at 0x10ff03dd8>"
      ]
     },
     "metadata": {},
     "output_type": "display_data"
    }
   ],
   "source": [
    "plt.scatter(b[:,0],b[:,1],c=np.linspace(0,99,len(b)),cmap=cmap)"
   ]
  },
  {
   "cell_type": "code",
   "execution_count": 12,
   "metadata": {
    "collapsed": false
   },
   "outputs": [
    {
     "data": {
      "text/plain": [
       "array([[ 1.        ,  0.99096297],\n",
       "       [ 0.99096297,  1.        ]])"
      ]
     },
     "execution_count": 12,
     "metadata": {},
     "output_type": "execute_result"
    }
   ],
   "source": [
    "np.corrcoef(b,rowvar=0)"
   ]
  },
  {
   "cell_type": "code",
   "execution_count": 13,
   "metadata": {
    "collapsed": false
   },
   "outputs": [],
   "source": [
    "_ = np.array([random.random()*100 for _ in range(100)])\n",
    "c = np.array([[i,i+np.random.normal()*10] for i in _])"
   ]
  },
  {
   "cell_type": "code",
   "execution_count": 14,
   "metadata": {
    "collapsed": false
   },
   "outputs": [
    {
     "data": {
      "text/plain": [
       "<matplotlib.collections.PathCollection at 0x11644d748>"
      ]
     },
     "execution_count": 14,
     "metadata": {},
     "output_type": "execute_result"
    },
    {
     "data": {
      "image/png": "[encoded data removed]",
      "text/plain": [
       "<matplotlib.figure.Figure at 0x11642f5f8>"
      ]
     },
     "metadata": {},
     "output_type": "display_data"
    }
   ],
   "source": [
    "plt.scatter(c[:,0],c[:,1],c=c_space,cmap=cmap)"
   ]
  },
  {
   "cell_type": "code",
   "execution_count": 15,
   "metadata": {
    "collapsed": false
   },
   "outputs": [
    {
     "data": {
      "text/plain": [
       "array([[ 1.        ,  0.94708537],\n",
       "       [ 0.94708537,  1.        ]])"
      ]
     },
     "execution_count": 15,
     "metadata": {},
     "output_type": "execute_result"
    }
   ],
   "source": [
    "np.corrcoef(c,rowvar=0)"
   ]
  },
  {
   "cell_type": "markdown",
   "metadata": {},
   "source": [
    "# Ordinal comparison\n",
    "\n",
    "e.g. comparing rank"
   ]
  },
  {
   "cell_type": "code",
   "execution_count": 158,
   "metadata": {
    "collapsed": false
   },
   "outputs": [],
   "source": [
    "from search.api import Query\n",
    "import json\n",
    "import yaml\n",
    "creds = yaml.load(open('/Users/jkolb/.creds.yaml'))\n",
    "\n",
    "# set up a query to the Gnip Search API\n",
    "q = Query(creds['username'],\n",
    "          creds['password'],\n",
    "          creds['search_endpoint'],\n",
    "          paged=True,\n",
    "          hard_max = 500,\n",
    "          search_v2 = True\n",
    "          )\n",
    "\n",
    "# query parameters\n",
    "start_date = '2016-08-01T00:00'\n",
    "end_date = '2016-09-01T00:00'\n",
    "rule = 'mom'\n",
    "\n",
    "# get the tweet data\n",
    "q.execute(rule,start=start_date,end=end_date)\n",
    "mom_tweets = list(q.get_activity_set())"
   ]
  },
  {
   "cell_type": "code",
   "execution_count": 159,
   "metadata": {
    "collapsed": false
   },
   "outputs": [],
   "source": [
    "def token_frequency(tweets,num_top_terms = 30,delta=10**-5,epsilon=0.001,):\n",
    "    \"\"\"space-tokenize tweet bodies and \n",
    "    return exact and approximate 1-gram counts\"\"\"\n",
    "    \n",
    "    terms = collections.defaultdict(int)\n",
    "    sketch = count_min.Sketch(dict(delta=delta,epsilon=epsilon,k=num_top_terms))\n",
    "    for tweet in tweets:\n",
    "        for token in tweet['body'].split():\n",
    "            terms[token.lower()] += 1\n",
    "            sketch.update(token.lower(),1)\n",
    "    return (terms,sketch)"
   ]
  },
  {
   "cell_type": "code",
   "execution_count": 160,
   "metadata": {
    "collapsed": true
   },
   "outputs": [],
   "source": [
    "def display_two_lists(list_1,list_2):\n",
    "    for x,y in zip(list_1,list_2):\n",
    "        print(x,y)\n",
    "    #x = np.array([list_1,list_2])\n",
    "    #print(x.transpose())"
   ]
  },
  {
   "cell_type": "code",
   "execution_count": 161,
   "metadata": {
    "collapsed": true
   },
   "outputs": [],
   "source": [
    "num_top_terms = 30\n",
    "delta = 10**-4\n",
    "epsilon = 0.01"
   ]
  },
  {
   "cell_type": "code",
   "execution_count": 163,
   "metadata": {
    "collapsed": false
   },
   "outputs": [],
   "source": [
    "# get exact and approximate top terms and counts\n",
    "mom_terms,mom_sketch = token_frequency(mom_tweets,num_top_terms,delta,epsilon)\n",
    "exact_top_mom_terms = list(reversed(sorted(mom_terms.items(),key = operator.itemgetter(1))))[:num_top_terms]\n",
    "approx_top_mom_terms = [(term,count) for count,term in reversed(sorted(mom_sketch.top_k.values(),key = operator.itemgetter(0)))]"
   ]
  },
  {
   "cell_type": "markdown",
   "metadata": {},
   "source": [
    "**Kendall's tau coefficient** is a sort of correlation coefficient that is proportional to the difference between the number of _concordant_ pairs and the number of _discordant_ pairs.  "
   ]
  },
  {
   "cell_type": "code",
   "execution_count": 164,
   "metadata": {
    "collapsed": false
   },
   "outputs": [
    {
     "name": "stderr",
     "output_type": "stream",
     "text": [
      "/Users/jkolb/pyenvs/3.5.1/lib/python3.5/site-packages/scipy/stats/stats.py:250: RuntimeWarning: The input array could not be properly checked for nan values. nan values will be ignored.\n",
      "  \"values. nan values will be ignored.\", RuntimeWarning)\n"
     ]
    },
    {
     "data": {
      "text/plain": [
       "0.84258264678796091"
      ]
     },
     "execution_count": 164,
     "metadata": {},
     "output_type": "execute_result"
    }
   ],
   "source": [
    "kt_result = scipy.stats.kendalltau(exact_top_mom_terms,approx_top_mom_terms)\n",
    "kt_result.correlation"
   ]
  },
  {
   "cell_type": "code",
   "execution_count": 165,
   "metadata": {
    "collapsed": false
   },
   "outputs": [
    {
     "name": "stdout",
     "output_type": "stream",
     "text": [
      "('mom', 388) ('mom', 395)\n",
      "('my', 273) ('my', 279)\n",
      "('rt', 243) ('rt', 246)\n",
      "('i', 183) ('i', 189)\n",
      "('the', 173) ('the', 178)\n",
      "('to', 171) ('to', 178)\n",
      "('and', 126) ('and', 134)\n",
      "('a', 119) ('a', 125)\n",
      "('me', 110) ('me', 114)\n",
      "('is', 99) ('is', 105)\n",
      "('you', 86) ('you', 96)\n",
      "('in', 84) ('in', 89)\n",
      "('for', 73) ('for', 78)\n",
      "('when', 66) ('when', 72)\n",
      "('she', 66) ('your', 69)\n",
      "('your', 62) ('she', 67)\n",
      "('with', 56) ('with', 66)\n",
      "('of', 51) ('of', 61)\n",
      "('get', 47) ('it', 54)\n",
      "('on', 46) ('be', 52)\n",
      "('it', 44) ('on', 52)\n",
      "('be', 42) ('get', 52)\n",
      "('so', 40) ('so', 50)\n",
      "('her', 39) ('that', 43)\n",
      "('that', 36) ('just', 41)\n",
      "('this', 35) ('her', 41)\n",
      "('just', 33) ('this', 40)\n",
      "('if', 33) ('if', 37)\n",
      "('what', 31) ('have', 37)\n",
      "('who', 29) ('what', 36)\n"
     ]
    }
   ],
   "source": [
    "display_two_lists(exact_top_mom_terms,approx_top_mom_terms)"
   ]
  },
  {
   "cell_type": "markdown",
   "metadata": {},
   "source": [
    "Next step: how to account for the varying importance of rank?"
   ]
  },
  {
   "cell_type": "markdown",
   "metadata": {},
   "source": [
    "# Over/under-indexing"
   ]
  },
  {
   "cell_type": "code",
   "execution_count": 172,
   "metadata": {
    "collapsed": true
   },
   "outputs": [],
   "source": [
    "# get some data around the term 'dad'\n",
    "\n",
    "rule = 'dad'\n",
    "q.execute(rule,start=start_date,end=end_date)\n",
    "dad_tweets = list(q.get_activity_set())"
   ]
  },
  {
   "cell_type": "code",
   "execution_count": 173,
   "metadata": {
    "collapsed": false
   },
   "outputs": [],
   "source": [
    "dad_terms,dad_sketch = token_frequency(dad_tweets,num_top_terms,delta,epsilon)\n",
    "exact_top_dad_terms = list(reversed(sorted(dad_terms.items(),key = operator.itemgetter(1))))[:num_top_terms]\n",
    "approx_top_dad_terms = [(term,count) for count,term in reversed(sorted(dad_sketch.top_k.values(),key = operator.itemgetter(0)))]"
   ]
  },
  {
   "cell_type": "code",
   "execution_count": 174,
   "metadata": {
    "collapsed": false
   },
   "outputs": [
    {
     "name": "stdout",
     "output_type": "stream",
     "text": [
      "('dad', 375) ('mom', 388)\n",
      "('my', 255) ('my', 273)\n",
      "('rt', 231) ('rt', 243)\n",
      "('i', 177) ('i', 183)\n",
      "('to', 158) ('the', 173)\n",
      "('a', 153) ('to', 171)\n",
      "('the', 148) ('and', 126)\n",
      "('and', 138) ('a', 119)\n",
      "('of', 113) ('me', 110)\n",
      "('me', 80) ('is', 99)\n",
      "('in', 79) ('you', 86)\n",
      "('is', 77) ('in', 84)\n",
      "('you', 75) ('for', 73)\n",
      "('his', 74) ('when', 66)\n",
      "('he', 67) ('she', 66)\n",
      "('with', 65) ('your', 62)\n",
      "('trump', 55) ('with', 56)\n",
      "('that', 50) ('of', 51)\n",
      "('on', 45) ('get', 47)\n",
      "('for', 44) ('on', 46)\n",
      "('this', 43) ('it', 44)\n",
      "('what', 41) ('be', 42)\n",
      "('have', 40) ('so', 40)\n",
      "('be', 39) ('her', 39)\n",
      "(\"i'm\", 38) ('that', 36)\n",
      "('dad:', 38) ('this', 35)\n",
      "('at', 38) ('just', 33)\n",
      "('like', 37) ('if', 33)\n",
      "('was', 37) ('what', 31)\n",
      "('so', 36) ('who', 29)\n"
     ]
    }
   ],
   "source": [
    "display_two_lists(exact_top_dad_terms,exact_top_mom_terms)"
   ]
  },
  {
   "cell_type": "markdown",
   "metadata": {},
   "source": [
    "But we don't really care about rank here. We care about removing the effect of a baseline."
   ]
  },
  {
   "cell_type": "code",
   "execution_count": 178,
   "metadata": {
    "collapsed": true
   },
   "outputs": [],
   "source": [
    "def normalize_by_difference(term_counts,baseline_counts):\n",
    "    normed_term_counts = {}\n",
    "    for term,count in term_counts.items():\n",
    "        try:\n",
    "            normed_term_counts[term] = count - baseline_counts[term]\n",
    "        except KeyError:\n",
    "            normed_term_counts[term] = count\n",
    "    return normed_term_counts"
   ]
  },
  {
   "cell_type": "code",
   "execution_count": 184,
   "metadata": {
    "collapsed": false
   },
   "outputs": [
    {
     "data": {
      "text/plain": [
       "[('dad', 360),\n",
       " ('of', 62),\n",
       " ('he', 59),\n",
       " ('his', 57),\n",
       " ('trump', 55),\n",
       " ('dad:', 38),\n",
       " ('died', 34),\n",
       " ('a', 34),\n",
       " (\"trump's\", 32),\n",
       " ('@kurteichenwald:', 32),\n",
       " ('dad.', 31),\n",
       " ('medical', 22),\n",
       " ('last', 21),\n",
       " ('wont', 21),\n",
       " (\"doesn't\", 21),\n",
       " ('mexic…', 21),\n",
       " ('release', 21),\n",
       " ('records.', 21),\n",
       " (\"alzheimer's.\", 21),\n",
       " ('happened', 20)]"
      ]
     },
     "execution_count": 184,
     "metadata": {},
     "output_type": "execute_result"
    }
   ],
   "source": [
    "normalized_results = normalize_by_difference(dad_terms,mom_terms)\n",
    "list(reversed(sorted(normalized_results.items(), key = operator.itemgetter(1))))[:20]"
   ]
  },
  {
   "cell_type": "code",
   "execution_count": 188,
   "metadata": {
    "collapsed": false
   },
   "outputs": [
    {
     "data": {
      "text/plain": [
       "[('time', -15),\n",
       " ('if', -16),\n",
       " ('who', -17),\n",
       " ('it', -18),\n",
       " ('gave', -18),\n",
       " ('my', -18),\n",
       " ('money', -18),\n",
       " (\"she's\", -19),\n",
       " (\"mom's\", -19),\n",
       " ('her', -20),\n",
       " ('is', -22),\n",
       " ('does', -22),\n",
       " ('the', -25),\n",
       " ('your', -27),\n",
       " ('for', -29),\n",
       " ('me', -30),\n",
       " ('get', -33),\n",
       " ('when', -38),\n",
       " ('she', -59),\n",
       " ('mom', -355)]"
      ]
     },
     "execution_count": 188,
     "metadata": {},
     "output_type": "execute_result"
    }
   ],
   "source": [
    "list(reversed(sorted(normalized_results.items(), key = operator.itemgetter(1))))[-20:]"
   ]
  },
  {
   "cell_type": "code",
   "execution_count": 189,
   "metadata": {
    "collapsed": true
   },
   "outputs": [],
   "source": [
    "def normalize_by_fraction(term_counts,baseline_counts):\n",
    "    normed_term_counts = {}\n",
    "    B = sum(baseline_counts.values())\n",
    "    A = sum(term_counts.values())\n",
    "    for term,count in term_counts.items():\n",
    "        try:\n",
    "            factor = 1 - (baseline_counts[term] / B)\n",
    "        except KeyError:\n",
    "            factor = 1\n",
    "        normed_term_counts[term] = count * factor \n",
    "    return normed_term_counts"
   ]
  },
  {
   "cell_type": "code",
   "execution_count": null,
   "metadata": {
    "collapsed": true
   },
   "outputs": [],
   "source": []
  }
 ],
 "metadata": {
  "kernelspec": {
   "display_name": "Python 3",
   "language": "python",
   "name": "python3"
  },
  "language_info": {
   "codemirror_mode": {
    "name": "ipython",
    "version": 3
   },
   "file_extension": ".py",
   "mimetype": "text/x-python",
   "name": "python",
   "nbconvert_exporter": "python",
   "pygments_lexer": "ipython3",
   "version": "3.5.1"
  }
 },
 "nbformat": 4,
 "nbformat_minor": 0
}
